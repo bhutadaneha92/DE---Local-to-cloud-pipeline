{
 "cells": [
  {
   "cell_type": "markdown",
   "metadata": {},
   "source": [
    "---\n",
    "## 1.&nbsp; Import libraries 💾"
   ]
  },
  {
   "cell_type": "code",
   "execution_count": 235,
   "metadata": {},
   "outputs": [],
   "source": [
    "import pandas as pd\n",
    "import requests\n",
    "from bs4 import BeautifulSoup\n",
    "from timezonefinder import TimezoneFinder #To find timezone\n",
    "import pytz\n",
    "from datetime import datetime, timedelta #To get today's date and time\n",
    "from lat_lon_parser import parse  #Converts latitude and longitude to decimal\n",
    "#Please create python file to save your sql password and user API Key\n",
    "from safe_key import safe_key\n",
    "\n",
    "# install if needed\n",
    "#!pip install sqlalchemy\n",
    "#!pip install pymysql"
   ]
  },
  {
   "cell_type": "markdown",
   "metadata": {},
   "source": [
    "## 2. Scrap information from url using webscrapping 😀 and create a function \n",
    "### Function for cities and population table\n",
    "\n",
    "Utilise web scraping skills to gather information about three German cities – Berlin, Hamburg, and Munich – from Wikipedia.\n",
    "\n",
    " - Berlin: https://en.wikipedia.org/wiki/Berlin\n",
    " - Hamburg: https://en.wikipedia.org/wiki/Hamburg\n",
    " - Munich: https://en.wikipedia.org/wiki/Munich"
   ]
  },
  {
   "cell_type": "code",
   "execution_count": 252,
   "metadata": {},
   "outputs": [],
   "source": [
    "#Create a function to gather cities basic information from wikipedia\n",
    "\n",
    "def CityData(cities):\n",
    "    city_list = []\n",
    "\n",
    "    #Creating for loop to gather information of all cities given as a list \n",
    "    for city_name in cities:\n",
    "\n",
    "        url = f\"https://en.wikipedia.org/wiki/{city_name}\"\n",
    "\n",
    "        response = requests.get(url)\n",
    "\n",
    "        soup_city = BeautifulSoup(response.content, \"html.parser\")\n",
    "\n",
    "        #Extract country\n",
    "        country= soup_city.find(\"td\", class_=\"infobox-data\").get_text()\n",
    "\n",
    "        #Extract latitude\n",
    "        latitude = soup_city.find(\"span\", class_=\"latitude\").get_text()\n",
    "\n",
    "        #Extract longitude\n",
    "        longitude = soup_city.find(\"span\", class_=\"longitude\").get_text()\n",
    "\n",
    "        #geo = soup_city.find(\"span\", class_=\"geo\").get_text()  # with this we directly get latitue and longitude in decimal format \n",
    "    \n",
    "        #Convert lat and lon into decimal places\n",
    "        latitude_decimal = parse(latitude)\n",
    "        longitude_decimal = parse(longitude)\n",
    "\n",
    "        #Extract Population and timestamp\n",
    "        population = soup_city.find(\"table\", class_=\"infobox ib-settlement vcard\").find(string=\"Population\").find_next(class_=\"infobox-data\").get_text()\n",
    "        population_clean = int(population.replace(\",\",\"\"))\n",
    "\n",
    "        #Extract today's date & convert in datetime format\n",
    "        date_today = datetime.today().strftime(\"%d.%m.%Y %H:%M:%S\")\n",
    "        date_today_clean = pd.to_datetime(date_today, dayfirst=True) #Specify a date parse order \n",
    "\n",
    "\n",
    "        city_list.append({\"City\" : city_name,\n",
    "                        \"Country\" : country,\n",
    "                        \"Latitude\" : latitude_decimal,\n",
    "                        \"Longitude\" : longitude_decimal,\n",
    "                        \"Population\" : population_clean,\n",
    "                        \"Population_retrieved_date\" : date_today_clean\n",
    "                        })\n",
    "    return pd.DataFrame(city_list)"
   ]
  },
  {
   "cell_type": "markdown",
   "metadata": {},
   "source": [
    "---\n",
    "## 3. Create local pipeline i.e. connection between python and MySQL😃"
   ]
  },
  {
   "cell_type": "code",
   "execution_count": null,
   "metadata": {},
   "outputs": [],
   "source": [
    "#Create connection string between python and MySQL\n",
    "def create_connection_string():\n",
    "    \n",
    "    schema = \"sql_gans\"\n",
    "    host = safe_key[\"Host_IP\"]\n",
    "    user = \"root\"\n",
    "    port = 3306\n",
    "    password = safe_key[\"SQL_password\"]\n",
    "\n",
    "    db = f\"mysql+pymysql://{user}:{password}@{host}:{port}/{schema}\"\n",
    "    return db"
   ]
  },
  {
   "cell_type": "markdown",
   "metadata": {},
   "source": [
    "---\n",
    "## 4. Creating the matching table with SQL 💻\n",
    "\n",
    "Now we're ready to store the DataFrame in SQL. Before we can send the information in SQL, we need to make a table that has the same columns with same name and data types to recieve the data. While we are creating a table for cities, we can also create the population table too.\n",
    "\n",
    "Open MySQL Workbench, open a local connection, and open a \"sql_table_creation_gans.sql\" file. "
   ]
  },
  {
   "cell_type": "code",
   "execution_count": 238,
   "metadata": {},
   "outputs": [],
   "source": [
    "#Sending python data to sql table\n",
    "def send_data(df, connection_string, sql_table):\n",
    "    return df.to_sql(name = sql_table,\n",
    "                    con = connection_string,\n",
    "                    if_exists ='append',\n",
    "                    index = False) #Ensures the DataFrame’s index is not written as a separate column in the database table.\n",
    "    \n",
    "\n",
    "#Retrieving information from sql to python - this notebook\n",
    "def fetch_data(sql_table, connection_string):\n",
    "    return pd.read_sql(sql_table, con = connection_string)"
   ]
  },
  {
   "cell_type": "code",
   "execution_count": 253,
   "metadata": {},
   "outputs": [],
   "source": [
    "def update_cities_data(cities_name):\n",
    "\n",
    "    #cities_name is a list of cities\n",
    "    city_data_df = CityData(cities_name)\n",
    "\n",
    "    #Splitting a df into city and population df\n",
    "    city_df = city_data_df.loc[:,[\"City\", \"Country\", \"Latitude\", \"Longitude\"]]\n",
    "\n",
    "    connection_string = create_connection_string()\n",
    "\n",
    "    # Sending the cities basic information to the sql table name cities_info\n",
    "    send_data(city_df, connection_string, \"cities_info\")\n",
    "    \n",
    "    cities_info_from_sql = fetch_data(\"cities_info\", connection_string)\n",
    "\n",
    "    return city_data_df, connection_string, cities_info_from_sql\n",
    "\n",
    "def update_population_data(city_data_df, connection_string, cities_info_from_sql):\n",
    "\n",
    "    population_df = city_data_df.loc[:,[\"Population\", \"Population_retrieved_date\"]]\n",
    "    \n",
    "\n",
    "    #Preparing and sending the population table 📚\n",
    "    #Select only required columns\n",
    "    population_df[\"City_id\"] = cities_info_from_sql.loc[:,\"City_id\"]\n",
    "\n",
    "    #Transforming city_population_df info to sql table - cities_population\n",
    "    send_data(population_df, connection_string, \"cities_population\")\n",
    "\n",
    "    # Retrieving the cities population information from the sql table name cities_population with unique City_id\n",
    "    cities_population_from_sql = fetch_data(\"cities_population\", connection_string)\n",
    "    \n",
    "\n",
    "    return cities_population_from_sql\n",
    "\n"
   ]
  },
  {
   "cell_type": "markdown",
   "metadata": {},
   "source": [
    "### 5. Weather Data - Creating a function for 5 days/ 3 Hour weather forecast using API \n",
    "- https://openweathermap.org/forecast5"
   ]
  },
  {
   "cell_type": "code",
   "execution_count": 240,
   "metadata": {},
   "outputs": [],
   "source": [
    "def WeatherData(cities_info_from_sql, temp_unit): \n",
    "    \n",
    "    #store all 'values' belong to key 'list' (key:value)\n",
    "    weather_data = []\n",
    "\n",
    "    #This loop iterate over cities table in rowwise maanner\n",
    "    for row in cities_info_from_sql.itertuples(index=False):\n",
    "    \n",
    "        #Extracts city details\n",
    "        city_name = row.City\n",
    "        city_id = row.City_id\n",
    "        latitude = row.Latitude  \n",
    "        longitude = row.Longitude  \n",
    "        \n",
    "        #Finds the city's timezone using the TimezoneFinder library\n",
    "        tf = TimezoneFinder()\n",
    "        timezone_str = tf.timezone_at(lng=longitude, lat=latitude) or \"UTC\"\n",
    "        city_timezone = pytz.timezone(timezone_str)\n",
    "\n",
    "        # Get current UTC time\n",
    "        utc_time = datetime.now(pytz.utc)\n",
    "\n",
    "        # Convert UTC time to the city's local timezone\n",
    "        city_time = utc_time.astimezone(city_timezone).strftime(\"%Y-%m-%d %H:%M:%S\")\n",
    "        city_time_clean = pd.to_datetime(city_time)\n",
    "\n",
    "        #Define base url\n",
    "        base_url = \"https://api.openweathermap.org/data/2.5/forecast\"\n",
    "\n",
    "        #Define parameters\n",
    "        parameters = {\"q\" : city_name,\n",
    "                      \"appid\" : safe_key[\"API_key\"],\n",
    "                      \"units\" : temp_unit}\n",
    "        \n",
    "        response = requests.get(base_url, params=parameters)\n",
    "        \n",
    "        if response.status_code != 200:\n",
    "            print(f\"Failed to fetch weather data for {city_name}. HTTP Status: {response.status_code}\")\n",
    "            continue\n",
    "        \n",
    "        try:\n",
    "            weather = response.json()\n",
    "        except requests.exceptions.JSONDecodeError:\n",
    "            print(f\"Invalid JSON response for weather data for {city_name}\")\n",
    "            continue\n",
    "        \n",
    "\n",
    "        for count in range(weather['cnt']): #cnt - A number of timestamps returned in the API response\n",
    "\n",
    "            \n",
    "            all_data = weather['list'][count]\n",
    "\n",
    "            #Time of data forecasted, ISO, UTC\n",
    "            date_time = all_data['dt_txt']\n",
    "            date_time_clean = pd.to_datetime(date_time)\n",
    "\n",
    "            # actual feels like temperature in degree celcius\n",
    "            temperature = all_data['main']['feels_like']\n",
    "\n",
    "            #weather_condition within the group\n",
    "            weather_condition = all_data['weather'][0]['description']\n",
    "\n",
    "            #cloudiness in percentage\n",
    "            cloudiness = all_data['clouds']['all']\n",
    "\n",
    "            #wind_speed in meter/sec\n",
    "            wind_speed = all_data['wind']['speed']\n",
    "\n",
    "            #pop-Probability_of_Perception values between 0 & 1. Indicated probabiltiy of rain\n",
    "            pop = all_data['pop']\n",
    "\n",
    "            #Part of the day (n-night, d-day)\n",
    "            pod = all_data['sys']['pod']\n",
    "\n",
    "            weather_data.append({\"City_id\" : city_id,\n",
    "                                \"Forecast_utc_time\" : date_time_clean,\n",
    "                                \"City_time\": city_time_clean,\n",
    "                                \"Part_of_day\" : pod,\n",
    "                                \"Weather_condition\" : weather_condition,\n",
    "                                \"Cloudiness_percent\" : cloudiness,\n",
    "                                \"Temp_deg\" : temperature,\n",
    "                                \"Wind_speed_M_per_sec\" : wind_speed,\n",
    "                                \"Rain_probability_percent\" : pop * 100\n",
    "                                })\n",
    "    return pd.DataFrame(weather_data)\n"
   ]
  },
  {
   "cell_type": "markdown",
   "metadata": {},
   "source": [
    "### 6. Airport data for given city function \n",
    "- Use API -  \"https://aerodatabox.p.rapidapi.com/airports/search/location\""
   ]
  },
  {
   "cell_type": "code",
   "execution_count": 241,
   "metadata": {},
   "outputs": [],
   "source": [
    "def icao_airport_codes(cities_info_from_sql): \n",
    "  \n",
    "  list_for_df = []\n",
    "\n",
    "  for row in cities_info_from_sql.itertuples(index=False):\n",
    "    \n",
    "    city_name = row.City\n",
    "    latitude = row.Latitude  \n",
    "    longitude = row.Longitude\n",
    "\n",
    "\n",
    "    base_url = \"https://aerodatabox.p.rapidapi.com/airports/search/location\"\n",
    "\n",
    "    querystring = {\n",
    "                    \"lat\": latitude, \n",
    "                    \"lon\": longitude, \n",
    "                    \"radiusKm\":\"100\",\n",
    "                    \"limit\":\"16\", \n",
    "                    \"withFlightInfoOnly\":\"true\" \n",
    "                  }\n",
    "\n",
    "    headers = { \n",
    "                \"x-rapidapi-key\": safe_key[\"x_rapidapi_key\"],\n",
    "                \"x-rapidapi-host\": \"aerodatabox.p.rapidapi.com\"\n",
    "              }\n",
    "\n",
    "    response = requests.get(base_url, headers=headers, params=querystring)\n",
    "\n",
    "    if response.status_code != 200:\n",
    "      print(f\"Failed to fetch airport data for {city_name}. HTTP Status: {response.status_code}\")\n",
    "      continue\n",
    "\n",
    "    try:\n",
    "      airport_data = response.json()['items']\n",
    "      list_for_df.append(pd.json_normalize(airport_data))\n",
    "    except requests.exceptions.JSONDecodeError:\n",
    "      print(f\"Invalid JSON response for airport data for {city_name}\")\n",
    "      continue\n",
    "     \n",
    "  return pd.concat(list_for_df, ignore_index=True)"
   ]
  },
  {
   "cell_type": "markdown",
   "metadata": {},
   "source": [
    "## 7. Flight data function\n",
    "- API for timezone - \"https://aerodatabox.p.rapidapi.com/airports/icao/{icao_code}\"\n",
    "- API for flight - \"https://aerodatabox.p.rapidapi.com/flights/airports/icao/{code}/{tomorrow}T{time[0]}/{tomorrow}T{time[1]}\""
   ]
  },
  {
   "cell_type": "code",
   "execution_count": 242,
   "metadata": {},
   "outputs": [],
   "source": [
    "def get_timezone_by_icao(icao_code):\n",
    "    try:\n",
    "        url = f\"https://aerodatabox.p.rapidapi.com/airports/icao/{icao_code}\"\n",
    "        \n",
    "        headers = {\n",
    "            \"x-rapidapi-key\": safe_key[\"x_rapidapi_key\"],\n",
    "            \"x-rapidapi-host\": \"aerodatabox.p.rapidapi.com\"\n",
    "            }\n",
    "\n",
    "        response = requests.get(url, headers=headers)\n",
    "\n",
    "        if response.status_code == 200:\n",
    "            data = response.json()\n",
    "            timezone_str = data[\"timeZone\"]\n",
    "            return timezone_str\n",
    "        else:\n",
    "            print(f\"Failed to fetch timezone for ICAO: {icao_code}\")\n",
    "            return \"UTC\"\n",
    "    except Exception as e:\n",
    "        print(f\"Error in timezone lookup for ICAO: {icao_code}: {e}\")\n",
    "        return \"UTC\""
   ]
  },
  {
   "cell_type": "code",
   "execution_count": 243,
   "metadata": {},
   "outputs": [],
   "source": [
    "def FlightData(airports_from_db):\n",
    "    flight_data = []\n",
    "\n",
    "    for code_row in airports_from_db.itertuples(index=False):\n",
    "        code = code_row.icao\n",
    "        Airport_name = code_row.Airport_name\n",
    "        City_id = code_row.City_id\n",
    "\n",
    "        # Find the city timezone based on icao code API\n",
    "        timezone_str = get_timezone_by_icao(code) or \"UTC\"\n",
    "        city_timezone = pytz.timezone(timezone_str)\n",
    "\n",
    "        # Get today and tomorrow's dates\n",
    "        today = datetime.now(city_timezone).date()\n",
    "        tomorrow = today + timedelta(days=1)\n",
    "\n",
    "        # API requires two 12-hour calls\n",
    "        times = [[\"00:00\", \"11:59\"], [\"12:00\", \"23:59\"]]\n",
    "\n",
    "        for time in times:\n",
    "\n",
    "            url = f\"https://aerodatabox.p.rapidapi.com/flights/airports/icao/{code}/{tomorrow}T{time[0]}/{tomorrow}T{time[1]}\"\n",
    "            \n",
    "            querystring = {\n",
    "                            \"withLeg\": \"true\",\n",
    "                            \"direction\": \"Arrival\",\n",
    "                            \"withCancelled\": \"false\",\n",
    "                            \"withCodeshared\": \"true\",\n",
    "                            \"withCargo\": \"false\",\n",
    "                            \"withPrivate\": \"false\"\n",
    "                        }\n",
    "            \n",
    "            headers = {\n",
    "                \"x-rapidapi-key\": safe_key[\"x_rapidapi_key\"],\n",
    "                \"x-rapidapi-host\": \"aerodatabox.p.rapidapi.com\"\n",
    "                }\n",
    "\n",
    "            # API request\n",
    "            response = requests.get(url, headers=headers, params=querystring)\n",
    "            \n",
    "            if response.status_code != 200:\n",
    "                print(f\"Error fetching flight data for ICAO: {code}, Status Code: {response.status_code}\")\n",
    "                continue\n",
    "\n",
    "            try:\n",
    "                flight = response.json()\n",
    "            except requests.exceptions.JSONDecodeError:\n",
    "                print(f\"Invalid JSON response for flight data for ICAO: {code}\")\n",
    "                continue\n",
    "\n",
    "            # Data retrieval timestamp\n",
    "            retrieval_time = datetime.now(city_timezone).strftime(\"%Y-%m-%d %H:%M:%S\")\n",
    "\n",
    "            # Parse arrivals\n",
    "            for item in flight.get(\"arrivals\", []):\n",
    "\n",
    "                #This skip step if arrival_time is not available\n",
    "                arrival_time = item[\"arrival\"][\"scheduledTime\"].get(\"local\", None)\n",
    "                if not arrival_time:\n",
    "                    continue\n",
    "\n",
    "                data = {\n",
    "                    \"Arrival_airport_icao\": code,\n",
    "                    \"Arrival_airport_name\": Airport_name,\n",
    "                    \"Departure_airport_icao\": item[\"departure\"][\"airport\"].get(\"icao\", None),\n",
    "                    \"Flight_number\": item.get(\"number\", None),\n",
    "                    \"Arrival_time\": arrival_time,\n",
    "                    \"Data_retrieved_time\": retrieval_time,\n",
    "                    \"City_id\" : City_id\n",
    "                }\n",
    "\n",
    "                flight_data.append(data)\n",
    "\n",
    "    #Create DataFrame\n",
    "    flight_df = pd.DataFrame(flight_data)\n",
    "\n",
    "    if not flight_df.empty:\n",
    "        flight_df[\"Arrival_time\"] = pd.to_datetime(flight_df[\"Arrival_time\"].str[:-6])\n",
    "        flight_df[\"Data_retrieved_time\"] = pd.to_datetime(flight_df[\"Data_retrieved_time\"])\n",
    "\n",
    "    return flight_df\n"
   ]
  },
  {
   "cell_type": "markdown",
   "metadata": {},
   "source": [
    "## Create one final function to send and retrieve data i.e. update data"
   ]
  },
  {
   "cell_type": "code",
   "execution_count": 244,
   "metadata": {},
   "outputs": [],
   "source": [
    "cities_name = [\"Berlin\", \"Munich\", \"Pune\", \"Nasik\"]\n",
    "city_data_df, connection_string, cities_info_from_sql = update_cities_data(cities_name)"
   ]
  },
  {
   "cell_type": "code",
   "execution_count": 245,
   "metadata": {},
   "outputs": [],
   "source": [
    "cities_population_from_sql = update_population_data(city_data_df, connection_string, cities_info_from_sql)"
   ]
  },
  {
   "cell_type": "code",
   "execution_count": 246,
   "metadata": {},
   "outputs": [
    {
     "data": {
      "text/plain": [
       "'Weather Data has been updated'"
      ]
     },
     "execution_count": 246,
     "metadata": {},
     "output_type": "execute_result"
    }
   ],
   "source": [
    "def update_weather_data(cities_info_from_sql, connection_string):\n",
    "\n",
    "    weather_to_db = WeatherData(cities_info_from_sql, temp_unit='metric')\n",
    "\n",
    "    send_data(weather_to_db, connection_string, \"cities_weather\")\n",
    "    \n",
    "    return \"Weather Data has been updated\"\n",
    "\n",
    "update_weather_data(cities_info_from_sql, connection_string)\n"
   ]
  },
  {
   "cell_type": "code",
   "execution_count": 247,
   "metadata": {},
   "outputs": [
    {
     "data": {
      "text/plain": [
       "'Airport data has been updated'"
      ]
     },
     "execution_count": 247,
     "metadata": {},
     "output_type": "execute_result"
    }
   ],
   "source": [
    "def update_airport_data(cities_info_from_sql, connection_string):\n",
    "\n",
    "    airport_df = icao_airport_codes(cities_info_from_sql)\n",
    "\n",
    "    icao_airport_names_df = airport_df.drop_duplicates(subset=[\"icao\"])[[\"icao\", \"name\", \"municipalityName\"]]\n",
    "\n",
    "    #Select only required columns\n",
    "    cities_airports_merged = cities_info_from_sql.merge(icao_airport_names_df, left_on = \"City\", right_on = \"municipalityName\", how=\"left\")\n",
    "\n",
    "    # Selecting only the columns we need\n",
    "    airports_to_db = cities_airports_merged.loc[:,[\"icao\", \"name\", \"City_id\"]]\n",
    "    airports_to_db.rename(columns={\"name\": \"Airport_name\"}, inplace=True)\n",
    "\n",
    "    send_data(airports_to_db, connection_string, \"airports\")\n",
    "    \n",
    "    return \"Airport data has been updated\"\n",
    "\n",
    "update_airport_data(cities_info_from_sql, connection_string)"
   ]
  },
  {
   "cell_type": "code",
   "execution_count": 248,
   "metadata": {},
   "outputs": [
    {
     "data": {
      "text/plain": [
       "'Flights data has been updated'"
      ]
     },
     "execution_count": 248,
     "metadata": {},
     "output_type": "execute_result"
    }
   ],
   "source": [
    "def update_flight_data(connection_string):\n",
    "\n",
    "    airports_from_db = fetch_data(\"airports\", connection_string)\n",
    "    \n",
    "    flights_to_db = FlightData(airports_from_db)\n",
    "    \n",
    "    send_data(flights_to_db, connection_string, \"flights\")\n",
    "\n",
    "    return \"Flights data has been updated\"\n",
    "\n",
    "update_flight_data(connection_string)"
   ]
  }
 ],
 "metadata": {
  "kernelspec": {
   "display_name": "Python 3",
   "language": "python",
   "name": "python3"
  },
  "language_info": {
   "codemirror_mode": {
    "name": "ipython",
    "version": 3
   },
   "file_extension": ".py",
   "mimetype": "text/x-python",
   "name": "python",
   "nbconvert_exporter": "python",
   "pygments_lexer": "ipython3",
   "version": "3.12.7"
  }
 },
 "nbformat": 4,
 "nbformat_minor": 2
}
