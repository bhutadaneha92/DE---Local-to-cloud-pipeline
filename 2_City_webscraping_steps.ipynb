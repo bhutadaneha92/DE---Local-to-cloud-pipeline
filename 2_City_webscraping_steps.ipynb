{
 "cells": [
  {
   "cell_type": "markdown",
   "metadata": {},
   "source": [
    "---\n",
    "## 1.&nbsp; Import libraries 💾"
   ]
  },
  {
   "cell_type": "code",
   "execution_count": 1,
   "metadata": {},
   "outputs": [],
   "source": [
    "import pandas as pd\n",
    "import requests\n",
    "from bs4 import BeautifulSoup\n",
    "\n",
    "#Converts latitude and longitude to decimal:\n",
    "from lat_lon_parser import parse \n",
    "\n",
    "#To get today's date\n",
    "from datetime import datetime \n",
    "\n",
    "# install if needed\n",
    "#!pip install sqlalchemy\n",
    "#!pip install pymysql"
   ]
  },
  {
   "cell_type": "markdown",
   "metadata": {},
   "source": [
    "## Challenge 2 😀\n",
    "\n",
    "Utilise your web scraping skills to gather information about three German cities – Berlin, Hamburg, and Munich – from Wikipedia. You will start by extracting basic information: the country, the latitude and the longitude of each city and then expand to more dynamic data such as the population."
   ]
  },
  {
   "cell_type": "markdown",
   "metadata": {},
   "source": [
    "### 1. Scraping Basic Information\n",
    "\n",
    "\n",
    "  1.1. Begin by scraping the country, the latitude and the longitude of each city from their respective Wikipedia pages:\n",
    "\n",
    " - Berlin: https://en.wikipedia.org/wiki/Berlin\n",
    " - Hamburg: https://en.wikipedia.org/wiki/Hamburg\n",
    " - Munich: https://en.wikipedia.org/wiki/Munich"
   ]
  },
  {
   "cell_type": "code",
   "execution_count": null,
   "metadata": {},
   "outputs": [
    {
     "data": {
      "text/plain": [
       "(<Response [200]>, <Response [200]>, <Response [200]>)"
      ]
     },
     "metadata": {},
     "output_type": "display_data"
    }
   ],
   "source": [
    "Berlin_url = \"https://en.wikipedia.org/wiki/Berlin\"\n",
    "Hamburg_url = \"https://en.wikipedia.org/wiki/Hamburg\"\n",
    "Munich_url = \"https://en.wikipedia.org/wiki/Munich\"\n",
    "\n",
    "Berlin_response = requests.get(Berlin_url)\n",
    "Hamburg_response = requests.get(Hamburg_url)\n",
    "\n",
    "Munich_response = requests.get(Munich_url)\n",
    "Berlin_response, Hamburg_response, Munich_response"
   ]
  },
  {
   "cell_type": "code",
   "execution_count": null,
   "metadata": {},
   "outputs": [],
   "source": [
    "#Create soup\n",
    "Berlin_soup = BeautifulSoup(Berlin_response.content, \"html.parser\")\n",
    "\n",
    "Hamburg_soup = BeautifulSoup(Hamburg_response.content, \"html.parser\")\n",
    "\n",
    "Munich_soup = BeautifulSoup(Munich_response.content, \"html.parser\")"
   ]
  },
  {
   "cell_type": "code",
   "execution_count": null,
   "metadata": {},
   "outputs": [
    {
     "data": {
      "text/plain": [
       "'Germany'"
      ]
     },
     "metadata": {},
     "output_type": "display_data"
    }
   ],
   "source": [
    "country_Germany = Berlin_soup.select('td.infobox-data a[title=\"Germany\"]')[0]\n",
    "country_Germany.get_text()"
   ]
  },
  {
   "cell_type": "code",
   "execution_count": null,
   "metadata": {},
   "outputs": [
    {
     "name": "stdout",
     "output_type": "stream",
     "text": [
      "Basic information about Berlin\n",
      "Country: Germany\n",
      "coordinates of Berlin:\n",
      "latitude = 52°31′12″N\tlongitude = 13°24′18″E\n"
     ]
    }
   ],
   "source": [
    "#For Berlin\n",
    "country_Germany = Berlin_soup.find(\"td\", class_=\"infobox-data\").get_text()\n",
    "\n",
    "Berlin_latitude = Berlin_soup.find(\"span\", class_=\"latitude\").get_text()\n",
    "\n",
    "Berlin_longitude = Berlin_soup.find(\"span\", class_=\"longitude\").get_text()\n",
    "\n",
    "print(\"Basic information about Berlin\")\n",
    "print(f\"Country: {country_Germany}\\ncoordinates of Berlin:\\nlatitude = {Berlin_latitude}\\tlongitude = {Berlin_longitude}\")"
   ]
  },
  {
   "cell_type": "code",
   "execution_count": null,
   "metadata": {},
   "outputs": [
    {
     "name": "stdout",
     "output_type": "stream",
     "text": [
      "Basic information about Hamburg\n",
      "Country: Germany\n",
      "coordinates of Hamburg:\n",
      "latitude = 53°33′N\tlongitude = 10°00′E\n"
     ]
    }
   ],
   "source": [
    "#For Hamburg\n",
    "country_Germany1 = Hamburg_soup.find(\"td\", class_=\"infobox-data\").get_text()\n",
    "\n",
    "Hamburg_latitude = Hamburg_soup.find(\"span\", class_=\"latitude\").get_text()\n",
    "\n",
    "Hamburg_longitude = Hamburg_soup.find(\"span\", class_=\"longitude\").get_text()\n",
    "\n",
    "print(\"Basic information about Hamburg\")\n",
    "print(f\"Country: {country_Germany1}\\ncoordinates of Hamburg:\\nlatitude = {Hamburg_latitude}\\tlongitude = {Hamburg_longitude}\")"
   ]
  },
  {
   "cell_type": "code",
   "execution_count": null,
   "metadata": {},
   "outputs": [
    {
     "name": "stdout",
     "output_type": "stream",
     "text": [
      "Basic information about Munich\n",
      "Country: Germany\n",
      "coordinates of Munich:\n",
      "latitude = 48°08′15″N\tlongitude = 11°34′30″E\n"
     ]
    }
   ],
   "source": [
    "#For Munich\n",
    "country_Germany2 = Munich_soup.find(\"td\", class_=\"infobox-data\").get_text()\n",
    "\n",
    "Munich_latitude = Munich_soup.find(\"span\", class_=\"latitude\").get_text()\n",
    "\n",
    "Munich_longitude = Munich_soup.find(\"span\", class_=\"longitude\").get_text()\n",
    "\n",
    "print(\"Basic information about Munich\")\n",
    "print(f\"Country: {country_Germany2}\\ncoordinates of Munich:\\nlatitude = {Munich_latitude}\\tlongitude = {Munich_longitude}\")"
   ]
  },
  {
   "cell_type": "markdown",
   "metadata": {},
   "source": [
    "1.2. Once you have scraped the basic information of each city, reflect on the similarities and patterns in accessing them across the three pages. Also, analyse the URLs to identify any commonalities. Make a loop that executes once and retrieves the country, latitude, and longitude for all three cities."
   ]
  },
  {
   "cell_type": "code",
   "execution_count": null,
   "metadata": {},
   "outputs": [
    {
     "name": "stdout",
     "output_type": "stream",
     "text": [
      "The cities are in the following countries: ['Germany', 'Germany', 'Germany']\n",
      "The cities have the following latitudes: ['52°31′12″N', '53°33′N', '48°08′15″N']\n",
      "The cities have the following longitudes: ['13°24′18″E', '10°00′E', '11°34′30″E']\n"
     ]
    }
   ],
   "source": [
    "cities = [\"Berlin\", \"Hamburg\", \"Munich\"]\n",
    "countries = []\n",
    "latitudes = []\n",
    "longitudes = []\n",
    "\n",
    "for city in cities:\n",
    "\n",
    "    url = f\"https://en.wikipedia.org/wiki/{city}\"\n",
    "\n",
    "    response = requests.get(url)\n",
    "\n",
    "    soup_city = BeautifulSoup(response.content, \"html.parser\")\n",
    "\n",
    "    #Creating loop \n",
    "    country= soup_city.find(\"td\", class_=\"infobox-data\").get_text()\n",
    "\n",
    "    latitude = soup_city.find(\"span\", class_=\"latitude\").get_text()\n",
    "\n",
    "    longitude = soup_city.find(\"span\", class_=\"longitude\").get_text()\n",
    "\n",
    "    countries.append(country)\n",
    "    latitudes.append(latitude)\n",
    "    longitudes.append(longitude)\n",
    "\n",
    "print(f\"The cities are in the following countries: {countries}\")\n",
    "print(f\"The cities have the following latitudes: {latitudes}\")\n",
    "print(f\"The cities have the following longitudes: {longitudes}\")"
   ]
  },
  {
   "cell_type": "markdown",
   "metadata": {},
   "source": [
    "### 2. Data Organisation\n",
    "\n",
    "  2.1 Utilise pandas DataFrame to effectively store the extracted information. This DataFrame should have a row for each city, and columns for each type of information (cityname, country, latitude, longitude). If you feel brave, change latitude and longitude into decimal format.\n",
    "\n",
    "\n"
   ]
  },
  {
   "cell_type": "code",
   "execution_count": null,
   "metadata": {},
   "outputs": [
    {
     "data": {
      "text/html": [
       "<div>\n",
       "<style scoped>\n",
       "    .dataframe tbody tr th:only-of-type {\n",
       "        vertical-align: middle;\n",
       "    }\n",
       "\n",
       "    .dataframe tbody tr th {\n",
       "        vertical-align: top;\n",
       "    }\n",
       "\n",
       "    .dataframe thead th {\n",
       "        text-align: right;\n",
       "    }\n",
       "</style>\n",
       "<table border=\"1\" class=\"dataframe\">\n",
       "  <thead>\n",
       "    <tr style=\"text-align: right;\">\n",
       "      <th></th>\n",
       "      <th>City</th>\n",
       "      <th>Country</th>\n",
       "      <th>Latitude</th>\n",
       "      <th>Longitude</th>\n",
       "    </tr>\n",
       "  </thead>\n",
       "  <tbody>\n",
       "    <tr>\n",
       "      <th>0</th>\n",
       "      <td>Berlin</td>\n",
       "      <td>Germany</td>\n",
       "      <td>52°31′12″N</td>\n",
       "      <td>13°24′18″E</td>\n",
       "    </tr>\n",
       "    <tr>\n",
       "      <th>1</th>\n",
       "      <td>Hamburg</td>\n",
       "      <td>Germany</td>\n",
       "      <td>53°33′N</td>\n",
       "      <td>10°00′E</td>\n",
       "    </tr>\n",
       "    <tr>\n",
       "      <th>2</th>\n",
       "      <td>Munich</td>\n",
       "      <td>Germany</td>\n",
       "      <td>48°08′15″N</td>\n",
       "      <td>11°34′30″E</td>\n",
       "    </tr>\n",
       "  </tbody>\n",
       "</table>\n",
       "</div>"
      ],
      "text/plain": [
       "      City  Country    Latitude   Longitude\n",
       "0   Berlin  Germany  52°31′12″N  13°24′18″E\n",
       "1  Hamburg  Germany     53°33′N     10°00′E\n",
       "2   Munich  Germany  48°08′15″N  11°34′30″E"
      ]
     },
     "metadata": {},
     "output_type": "display_data"
    }
   ],
   "source": [
    "city_dict = {\"City\" : cities,\n",
    "             \"Country\" : countries,\n",
    "             \"Latitude\" : latitudes,\n",
    "             \"Longitude\" : longitudes}\n",
    "\n",
    "city_df = pd.DataFrame(city_dict)\n",
    "city_df"
   ]
  },
  {
   "cell_type": "markdown",
   "metadata": {},
   "source": [
    "- We had our information in separate lists and now used them to create our DataFrame. However, if we add more and more columns we would need many separate lists. So use only one list"
   ]
  },
  {
   "cell_type": "code",
   "execution_count": null,
   "metadata": {},
   "outputs": [
    {
     "data": {
      "text/html": [
       "<div>\n",
       "<style scoped>\n",
       "    .dataframe tbody tr th:only-of-type {\n",
       "        vertical-align: middle;\n",
       "    }\n",
       "\n",
       "    .dataframe tbody tr th {\n",
       "        vertical-align: top;\n",
       "    }\n",
       "\n",
       "    .dataframe thead th {\n",
       "        text-align: right;\n",
       "    }\n",
       "</style>\n",
       "<table border=\"1\" class=\"dataframe\">\n",
       "  <thead>\n",
       "    <tr style=\"text-align: right;\">\n",
       "      <th></th>\n",
       "      <th>City</th>\n",
       "      <th>Country</th>\n",
       "      <th>Latitude</th>\n",
       "      <th>Lat_decimal</th>\n",
       "      <th>Longitude</th>\n",
       "      <th>Lon_decimal</th>\n",
       "    </tr>\n",
       "  </thead>\n",
       "  <tbody>\n",
       "    <tr>\n",
       "      <th>0</th>\n",
       "      <td>Berlin</td>\n",
       "      <td>Germany</td>\n",
       "      <td>52°31′12″N</td>\n",
       "      <td>52.5200</td>\n",
       "      <td>13°24′18″E</td>\n",
       "      <td>13.405</td>\n",
       "    </tr>\n",
       "    <tr>\n",
       "      <th>1</th>\n",
       "      <td>Hamburg</td>\n",
       "      <td>Germany</td>\n",
       "      <td>53°33′N</td>\n",
       "      <td>53.5500</td>\n",
       "      <td>10°00′E</td>\n",
       "      <td>10.000</td>\n",
       "    </tr>\n",
       "    <tr>\n",
       "      <th>2</th>\n",
       "      <td>Munich</td>\n",
       "      <td>Germany</td>\n",
       "      <td>48°08′15″N</td>\n",
       "      <td>48.1375</td>\n",
       "      <td>11°34′30″E</td>\n",
       "      <td>11.575</td>\n",
       "    </tr>\n",
       "  </tbody>\n",
       "</table>\n",
       "</div>"
      ],
      "text/plain": [
       "      City  Country    Latitude  Lat_decimal   Longitude  Lon_decimal\n",
       "0   Berlin  Germany  52°31′12″N      52.5200  13°24′18″E       13.405\n",
       "1  Hamburg  Germany     53°33′N      53.5500     10°00′E       10.000\n",
       "2   Munich  Germany  48°08′15″N      48.1375  11°34′30″E       11.575"
      ]
     },
     "metadata": {},
     "output_type": "display_data"
    }
   ],
   "source": [
    "#Solution - use only one list\n",
    "cities = [\"Berlin\", \"Hamburg\", \"Munich\"]\n",
    "city_dict = []\n",
    "\n",
    "for city in cities:\n",
    "\n",
    "    url = f\"https://en.wikipedia.org/wiki/{city}\"\n",
    "\n",
    "    response = requests.get(url)\n",
    "\n",
    "    soup_city = BeautifulSoup(response.content, \"html.parser\")\n",
    "\n",
    "    #Creating loop \n",
    "    country= soup_city.find(\"td\", class_=\"infobox-data\").get_text()\n",
    "\n",
    "    latitude = soup_city.find(\"span\", class_=\"latitude\").get_text()\n",
    "\n",
    "    longitude = soup_city.find(\"span\", class_=\"longitude\").get_text()\n",
    "\n",
    "    latitude_decimal = parse(latitude)\n",
    "    longitude_decimal = parse(longitude)\n",
    "\n",
    "    city_dict.append({\"City\" : city,\n",
    "                      \"Country\" : country,\n",
    "                      \"Latitude\" : latitude,\n",
    "                      \"Lat_decimal\" : latitude_decimal,\n",
    "                      \"Longitude\" : longitude,\n",
    "                      \"Lon_decimal\" : longitude_decimal})\n",
    "\n",
    "city_df = pd.DataFrame(city_dict)\n",
    "city_df"
   ]
  },
  {
   "cell_type": "markdown",
   "metadata": {},
   "source": [
    "  2.2 Looking ahead (optional): Create a function from the loop and DataFrame to encapsulate the scraping process. This function can be used repeatedly to fetch updated data whenever necessary. It should return a clean, properly formatted DataFrame."
   ]
  },
  {
   "cell_type": "code",
   "execution_count": null,
   "metadata": {},
   "outputs": [
    {
     "data": {
      "text/html": [
       "<div>\n",
       "<style scoped>\n",
       "    .dataframe tbody tr th:only-of-type {\n",
       "        vertical-align: middle;\n",
       "    }\n",
       "\n",
       "    .dataframe tbody tr th {\n",
       "        vertical-align: top;\n",
       "    }\n",
       "\n",
       "    .dataframe thead th {\n",
       "        text-align: right;\n",
       "    }\n",
       "</style>\n",
       "<table border=\"1\" class=\"dataframe\">\n",
       "  <thead>\n",
       "    <tr style=\"text-align: right;\">\n",
       "      <th></th>\n",
       "      <th>City</th>\n",
       "      <th>Country</th>\n",
       "      <th>Latitude</th>\n",
       "      <th>Longitude</th>\n",
       "    </tr>\n",
       "  </thead>\n",
       "  <tbody>\n",
       "    <tr>\n",
       "      <th>0</th>\n",
       "      <td>Berlin</td>\n",
       "      <td>Germany</td>\n",
       "      <td>52.5200</td>\n",
       "      <td>13.405</td>\n",
       "    </tr>\n",
       "    <tr>\n",
       "      <th>1</th>\n",
       "      <td>Hamburg</td>\n",
       "      <td>Germany</td>\n",
       "      <td>53.5500</td>\n",
       "      <td>10.000</td>\n",
       "    </tr>\n",
       "    <tr>\n",
       "      <th>2</th>\n",
       "      <td>Munich</td>\n",
       "      <td>Germany</td>\n",
       "      <td>48.1375</td>\n",
       "      <td>11.575</td>\n",
       "    </tr>\n",
       "  </tbody>\n",
       "</table>\n",
       "</div>"
      ],
      "text/plain": [
       "      City  Country  Latitude  Longitude\n",
       "0   Berlin  Germany   52.5200     13.405\n",
       "1  Hamburg  Germany   53.5500     10.000\n",
       "2   Munich  Germany   48.1375     11.575"
      ]
     },
     "metadata": {},
     "output_type": "display_data"
    }
   ],
   "source": [
    "#Create a function\n",
    "\n",
    "def cities_data(cities):\n",
    "    city_dict = []\n",
    "\n",
    "    for city in cities:\n",
    "\n",
    "        url = f\"https://en.wikipedia.org/wiki/{city}\"\n",
    "\n",
    "        response = requests.get(url)\n",
    "\n",
    "        soup_city = BeautifulSoup(response.content, \"html.parser\")\n",
    "\n",
    "        #Creating loop \n",
    "        country= soup_city.find(\"td\", class_=\"infobox-data\").get_text()\n",
    "\n",
    "        latitude = soup_city.find(\"span\", class_=\"latitude\").get_text()\n",
    "\n",
    "        longitude = soup_city.find(\"span\", class_=\"longitude\").get_text()\n",
    "\n",
    "        latitude_decimal = parse(latitude)\n",
    "        longitude_decimal = parse(longitude)\n",
    "\n",
    "\n",
    "        city_dict.append({\"City\" : city,\n",
    "                        \"Country\" : country,\n",
    "                        \"Latitude\" : latitude_decimal,\n",
    "                        \"Longitude\" : longitude_decimal\n",
    "                        })\n",
    "    return pd.DataFrame(city_dict)\n",
    "\n",
    "cities_name = [\"Berlin\", \"Hamburg\", \"Munich\"]\n",
    "city_df = cities_data(cities_name)\n",
    "city_df"
   ]
  },
  {
   "cell_type": "markdown",
   "metadata": {},
   "source": [
    "2.3 Hey, this worked great! Let's remember why we use functions: We want to be able to repeat the code many times. When we call our function with different cities, the relevant information will be extracted. This will help Gans to expand in the future."
   ]
  },
  {
   "cell_type": "code",
   "execution_count": null,
   "metadata": {},
   "outputs": [],
   "source": [
    "\n",
    "\n",
    "Berlin_soup.find(\"table\", class_=\"infobox ib-settlement vcard\").find(string=\"Population\").find_next(class_=\"infobox-data\").get_text()"
   ]
  },
  {
   "cell_type": "code",
   "execution_count": null,
   "metadata": {},
   "outputs": [],
   "source": [
    "datetime.today().strftime(\"%d.%m.%Y\")"
   ]
  },
  {
   "cell_type": "code",
   "execution_count": null,
   "metadata": {},
   "outputs": [
    {
     "data": {
      "text/html": [
       "<div>\n",
       "<style scoped>\n",
       "    .dataframe tbody tr th:only-of-type {\n",
       "        vertical-align: middle;\n",
       "    }\n",
       "\n",
       "    .dataframe tbody tr th {\n",
       "        vertical-align: top;\n",
       "    }\n",
       "\n",
       "    .dataframe thead th {\n",
       "        text-align: right;\n",
       "    }\n",
       "</style>\n",
       "<table border=\"1\" class=\"dataframe\">\n",
       "  <thead>\n",
       "    <tr style=\"text-align: right;\">\n",
       "      <th></th>\n",
       "      <th>City</th>\n",
       "      <th>Population</th>\n",
       "      <th>Population_retrieved_date</th>\n",
       "    </tr>\n",
       "  </thead>\n",
       "  <tbody>\n",
       "    <tr>\n",
       "      <th>0</th>\n",
       "      <td>Berlin</td>\n",
       "      <td>3878100</td>\n",
       "      <td>2024-11-28</td>\n",
       "    </tr>\n",
       "    <tr>\n",
       "      <th>1</th>\n",
       "      <td>Hamburg</td>\n",
       "      <td>1964021</td>\n",
       "      <td>2024-11-28</td>\n",
       "    </tr>\n",
       "    <tr>\n",
       "      <th>2</th>\n",
       "      <td>Munich</td>\n",
       "      <td>1510378</td>\n",
       "      <td>2024-11-28</td>\n",
       "    </tr>\n",
       "  </tbody>\n",
       "</table>\n",
       "</div>"
      ],
      "text/plain": [
       "      City  Population Population_retrieved_date\n",
       "0   Berlin     3878100                2024-11-28\n",
       "1  Hamburg     1964021                2024-11-28\n",
       "2   Munich     1510378                2024-11-28"
      ]
     },
     "metadata": {},
     "output_type": "display_data"
    }
   ],
   "source": [
    "#!. find the table which is on right side\n",
    "#2.finding nearest string i.e. population\n",
    "#3. use find_next \n",
    "#Create a function to extract population of cities from wikipedia and get today's date as timestamp\n",
    "\n",
    "def cities_population(cities):\n",
    "    city_population = []\n",
    "\n",
    "    for city in cities:\n",
    "\n",
    "        url = f\"https://en.wikipedia.org/wiki/{city}\"\n",
    "\n",
    "        response = requests.get(url)\n",
    "\n",
    "        soup_city = BeautifulSoup(response.content, \"html.parser\")\n",
    "\n",
    "        #Extract Population and timestamp\n",
    "        population = soup_city.find(\"table\", class_=\"infobox ib-settlement vcard\").find(string=\"Population\").find_next(class_=\"infobox-data\").get_text()\n",
    "        population_clean = int(population.replace(\",\",\"\"))\n",
    "\n",
    "        #Extract today's date & convert in datetime format\n",
    "        date_today = datetime.today().strftime(\"%d.%m.%Y\")\n",
    "        date_today_clean = pd.to_datetime(date_today, dayfirst=True) #Specify a date parse order \n",
    "\n",
    "\n",
    "        city_population.append({\"City\" : city,\n",
    "                                \"Population\" : population_clean,\n",
    "                                \"Population_retrieved_date\" : date_today_clean})\n",
    "    \n",
    "    return pd.DataFrame(city_population)\n",
    "\n",
    "cities_name = [\"Berlin\", \"Hamburg\", \"Munich\"]\n",
    "city_population_df = cities_population(cities_name)\n",
    "city_population_df"
   ]
  },
  {
   "cell_type": "markdown",
   "metadata": {},
   "source": [
    "## BONUS Challenge 4: Global Data Scraping\n",
    "\n",
    "  With your robust scraping skills now honed, venture beyond the confines of Germany and explore other cities around the world. While the extraction methodology for German cities may follow a consistent pattern, this may not be the case for cities from different countries. Can you make a function that returns a clean DataFrame of information for cities worldwide?"
   ]
  },
  {
   "cell_type": "code",
   "execution_count": null,
   "metadata": {},
   "outputs": [
    {
     "data": {
      "text/html": [
       "<div>\n",
       "<style scoped>\n",
       "    .dataframe tbody tr th:only-of-type {\n",
       "        vertical-align: middle;\n",
       "    }\n",
       "\n",
       "    .dataframe tbody tr th {\n",
       "        vertical-align: top;\n",
       "    }\n",
       "\n",
       "    .dataframe thead th {\n",
       "        text-align: right;\n",
       "    }\n",
       "</style>\n",
       "<table border=\"1\" class=\"dataframe\">\n",
       "  <thead>\n",
       "    <tr style=\"text-align: right;\">\n",
       "      <th></th>\n",
       "      <th>City</th>\n",
       "      <th>Country</th>\n",
       "      <th>Latitude</th>\n",
       "      <th>Lat_decimal</th>\n",
       "      <th>Longitude</th>\n",
       "      <th>Lon_decimal</th>\n",
       "    </tr>\n",
       "  </thead>\n",
       "  <tbody>\n",
       "    <tr>\n",
       "      <th>0</th>\n",
       "      <td>Cologne</td>\n",
       "      <td>Germany</td>\n",
       "      <td>50°56′11″N</td>\n",
       "      <td>50.936389</td>\n",
       "      <td>6°57′10″E</td>\n",
       "      <td>6.952778</td>\n",
       "    </tr>\n",
       "    <tr>\n",
       "      <th>1</th>\n",
       "      <td>Amsterdam</td>\n",
       "      <td>Netherlands</td>\n",
       "      <td>52°22′22″N</td>\n",
       "      <td>52.372778</td>\n",
       "      <td>04°53′37″E</td>\n",
       "      <td>4.893611</td>\n",
       "    </tr>\n",
       "    <tr>\n",
       "      <th>2</th>\n",
       "      <td>Pune</td>\n",
       "      <td>India</td>\n",
       "      <td>18°31′13″N</td>\n",
       "      <td>18.520278</td>\n",
       "      <td>73°51′24″E</td>\n",
       "      <td>73.856667</td>\n",
       "    </tr>\n",
       "    <tr>\n",
       "      <th>3</th>\n",
       "      <td>Nashik</td>\n",
       "      <td>India</td>\n",
       "      <td>19°59′51.0″N</td>\n",
       "      <td>19.997500</td>\n",
       "      <td>73°47′23.3″E</td>\n",
       "      <td>73.789806</td>\n",
       "    </tr>\n",
       "  </tbody>\n",
       "</table>\n",
       "</div>"
      ],
      "text/plain": [
       "        City       Country      Latitude  Lat_decimal     Longitude  \\\n",
       "0    Cologne       Germany    50°56′11″N    50.936389     6°57′10″E   \n",
       "1  Amsterdam   Netherlands    52°22′22″N    52.372778    04°53′37″E   \n",
       "2       Pune         India    18°31′13″N    18.520278    73°51′24″E   \n",
       "3     Nashik         India  19°59′51.0″N    19.997500  73°47′23.3″E   \n",
       "\n",
       "   Lon_decimal  \n",
       "0     6.952778  \n",
       "1     4.893611  \n",
       "2    73.856667  \n",
       "3    73.789806  "
      ]
     },
     "metadata": {},
     "output_type": "display_data"
    }
   ],
   "source": [
    "new_cities = [\"Cologne\", \"Amsterdam\", \"Pune\", \"Nashik\"]\n",
    "\n",
    "cities_data(new_cities)"
   ]
  }
 ],
 "metadata": {
  "kernelspec": {
   "display_name": "Python 3",
   "language": "python",
   "name": "python3"
  },
  "language_info": {
   "codemirror_mode": {
    "name": "ipython",
    "version": 3
   },
   "file_extension": ".py",
   "mimetype": "text/x-python",
   "name": "python",
   "nbconvert_exporter": "python",
   "pygments_lexer": "ipython3",
   "version": "3.12.7"
  }
 },
 "nbformat": 4,
 "nbformat_minor": 2
}
